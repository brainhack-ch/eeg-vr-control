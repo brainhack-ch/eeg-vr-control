{
 "cells": [
  {
   "cell_type": "markdown",
   "id": "e94754de",
   "metadata": {},
   "source": [
    "# BCI command stream"
   ]
  },
  {
   "cell_type": "code",
   "execution_count": 1,
   "id": "9bdbf8de",
   "metadata": {},
   "outputs": [],
   "source": [
    "import os\n",
    "import time\n",
    "import mne\n",
    "import numpy as np\n",
    "import pandas as pd\n",
    "\n",
    "import bsl\n",
    "from bsl import StreamPlayer, datasets\n",
    "# from bsl.externals import pylsl  # distributed version of pylsl\n",
    "from bsl.triggers import TriggerDef\n",
    "\n",
    "import pylsl\n",
    "\n",
    "import math\n",
    "import matplotlib\n",
    "import matplotlib.pyplot as plt\n",
    "from pythonosc.udp_client import SimpleUDPClient"
   ]
  },
  {
   "cell_type": "markdown",
   "id": "55d15e87",
   "metadata": {},
   "source": [
    "## Check LSL channels"
   ]
  },
  {
   "cell_type": "code",
   "execution_count": 2,
   "id": "f89f3bd5",
   "metadata": {},
   "outputs": [
    {
     "name": "stdout",
     "output_type": "stream",
     "text": [
      "[]\n"
     ]
    }
   ],
   "source": [
    "streams = [stream.name() for stream in pylsl.resolve_streams()]\n",
    "print (streams)"
   ]
  },
  {
   "cell_type": "markdown",
   "id": "172ff9b3",
   "metadata": {},
   "source": [
    "## Analyse signal and send commands"
   ]
  },
  {
   "cell_type": "code",
   "execution_count": null,
   "id": "53fba172",
   "metadata": {},
   "outputs": [],
   "source": [
    "# Stream receiver initialization\n",
    "receiver = bsl.StreamReceiver(bufsize=10, winsize=10, stream_name='igeb')\n",
    "\n",
    "# MNE info and lighter info (without problematic T7) initialization\n",
    "ch_names=['E1']\n",
    "ch_types=['eeg']\n",
    "info = mne.create_info(sfreq=250, ch_names=ch_names, ch_types=ch_types)\n",
    "\n",
    "selected_channels = [True]\n",
    "extended_selected_channels = [False]+selected_channels\n",
    "\n",
    "# OSC client initialization\n",
    "ip = \"127.0.0.1\"\n",
    "port = 4545\n",
    "client = SimpleUDPClient(ip, port)\n",
    "\n",
    "# Wait bufsize seconds before launching\n",
    "time.sleep(11)\n",
    "print('Starting recording reference score')\n",
    "k=0\n",
    "# 10s to compute the reference\n",
    "reference_scores = []\n",
    "main_loop_scores = []\n",
    "while k<40:\n",
    "    start = time.time()\n",
    "    receiver.acquire()\n",
    "    signal_array, timestamps_array = receiver.get_window(stream_name='igeb')\n",
    "    signal_array = np.nan_to_num(signal_array)\n",
    "    raw = mne.io.RawArray(data=signal_array[:,extended_selected_channels].T, info=info)\n",
    "    # Filter on the 10s\n",
    "    raw.filter(1,30)\n",
    "    # Analyzing the last half a second\n",
    "    # To change that : crop([tmin, tmax, include_tmax, verbose])\n",
    "    # For instance to get signal between 8.5 and 9.5s : raw.crop(tmin=8.5, tmax=9.5)\n",
    "    raw.crop(tmin=9)\n",
    "    psds, freqs = mne.time_frequency.psd_welch(raw, fmin=8, fmax=12, n_fft=125)  # 125\n",
    "    score = np.mean(psds)\n",
    "    reference_scores.append(score)\n",
    "    \n",
    "    k+=1\n",
    "    end = time.time()\n",
    "    time.sleep(0.25-(end - start)-0.0025)\n",
    "\n",
    "ref_mean_score = np.mean(reference_scores)\n",
    "ref_std_score = np.std(reference_scores)\n",
    "print(f\"Reference score : {reference_scores}\")\n",
    "\n",
    "\n",
    "# Main loop\n",
    "while True:  # Could be True or k<k_max\n",
    "    receiver.acquire()\n",
    "    signal_array, timestamps_array = receiver.get_window(stream_name='igeb')\n",
    "    signal_array = np.nan_to_num(signal_array)\n",
    "    raw = mne.io.RawArray(data=signal_array[:,extended_selected_channels].T, info=info)\n",
    "    # Filter on the 10s\n",
    "    raw.filter(1,30)  # Bandpass between 1Hz and 30Hz.\n",
    "    # Analyzing the last half a second\n",
    "    raw.crop(tmin=9)\n",
    "    psds, freqs = mne.time_frequency.psd_welch(raw, fmin=8, fmax=12, n_fft=125)  # 125\n",
    "    score = np.mean(psds)\n",
    "    \n",
    "    score = (score-ref_mean_score)/ref_std_score/2  # TODO : change number 3 ?\n",
    "#     print(score)\n",
    "    main_loop_scores.append(score)\n",
    "    \n",
    "    client.send_message(\"/in/alpha\", score)\n",
    "    "
   ]
  },
  {
   "cell_type": "code",
   "execution_count": null,
   "id": "89f96281",
   "metadata": {},
   "outputs": [],
   "source": []
  }
 ],
 "metadata": {
  "kernelspec": {
   "display_name": "Python 3 (ipykernel)",
   "language": "python",
   "name": "python3"
  },
  "language_info": {
   "codemirror_mode": {
    "name": "ipython",
    "version": 3
   },
   "file_extension": ".py",
   "mimetype": "text/x-python",
   "name": "python",
   "nbconvert_exporter": "python",
   "pygments_lexer": "ipython3",
   "version": "3.9.13"
  }
 },
 "nbformat": 4,
 "nbformat_minor": 5
}
